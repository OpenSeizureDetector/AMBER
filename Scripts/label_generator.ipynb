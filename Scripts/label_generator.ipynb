{
 "cells": [
  {
   "cell_type": "code",
   "execution_count": 2,
   "metadata": {},
   "outputs": [
    {
     "data": {
      "text/html": [
       "<div>\n",
       "<style scoped>\n",
       "    .dataframe tbody tr th:only-of-type {\n",
       "        vertical-align: middle;\n",
       "    }\n",
       "\n",
       "    .dataframe tbody tr th {\n",
       "        vertical-align: top;\n",
       "    }\n",
       "\n",
       "    .dataframe thead th {\n",
       "        text-align: right;\n",
       "    }\n",
       "</style>\n",
       "<table border=\"1\" class=\"dataframe\">\n",
       "  <thead>\n",
       "    <tr style=\"text-align: right;\">\n",
       "      <th></th>\n",
       "      <th>Id</th>\n",
       "      <th>eventID</th>\n",
       "      <th>userID</th>\n",
       "      <th>rawData</th>\n",
       "      <th>ppg</th>\n",
       "      <th>type</th>\n",
       "      <th>subType</th>\n",
       "      <th>label</th>\n",
       "    </tr>\n",
       "  </thead>\n",
       "  <tbody>\n",
       "    <tr>\n",
       "      <th>0</th>\n",
       "      <td>1</td>\n",
       "      <td>5635</td>\n",
       "      <td>45</td>\n",
       "      <td>1630.0</td>\n",
       "      <td>69.0000</td>\n",
       "      <td>Seizure</td>\n",
       "      <td>Aura</td>\n",
       "      <td>0</td>\n",
       "    </tr>\n",
       "    <tr>\n",
       "      <th>1</th>\n",
       "      <td>2</td>\n",
       "      <td>5635</td>\n",
       "      <td>45</td>\n",
       "      <td>1632.0</td>\n",
       "      <td>68.9283</td>\n",
       "      <td>Seizure</td>\n",
       "      <td>Aura</td>\n",
       "      <td>0</td>\n",
       "    </tr>\n",
       "    <tr>\n",
       "      <th>2</th>\n",
       "      <td>3</td>\n",
       "      <td>5635</td>\n",
       "      <td>45</td>\n",
       "      <td>1628.0</td>\n",
       "      <td>68.8575</td>\n",
       "      <td>Seizure</td>\n",
       "      <td>Aura</td>\n",
       "      <td>0</td>\n",
       "    </tr>\n",
       "    <tr>\n",
       "      <th>3</th>\n",
       "      <td>4</td>\n",
       "      <td>5635</td>\n",
       "      <td>45</td>\n",
       "      <td>1621.0</td>\n",
       "      <td>68.7877</td>\n",
       "      <td>Seizure</td>\n",
       "      <td>Aura</td>\n",
       "      <td>0</td>\n",
       "    </tr>\n",
       "    <tr>\n",
       "      <th>4</th>\n",
       "      <td>5</td>\n",
       "      <td>5635</td>\n",
       "      <td>45</td>\n",
       "      <td>1624.0</td>\n",
       "      <td>68.7189</td>\n",
       "      <td>Seizure</td>\n",
       "      <td>Aura</td>\n",
       "      <td>0</td>\n",
       "    </tr>\n",
       "  </tbody>\n",
       "</table>\n",
       "</div>"
      ],
      "text/plain": [
       "   Id  eventID  userID  rawData      ppg     type subType  label\n",
       "0   1     5635      45   1630.0  69.0000  Seizure    Aura      0\n",
       "1   2     5635      45   1632.0  68.9283  Seizure    Aura      0\n",
       "2   3     5635      45   1628.0  68.8575  Seizure    Aura      0\n",
       "3   4     5635      45   1621.0  68.7877  Seizure    Aura      0\n",
       "4   5     5635      45   1624.0  68.7189  Seizure    Aura      0"
      ]
     },
     "execution_count": 2,
     "metadata": {},
     "output_type": "execute_result"
    }
   ],
   "source": [
    "import numpy as np\n",
    "import pandas as pd\n",
    "\n",
    "# Sample data (replace with your actual data)\n",
    "data_file = 'ipd_dataset.csv'\n",
    "# Read the data into a DataFrame\n",
    "df = pd.read_csv(data_file)\n",
    "df.head()"
   ]
  },
  {
   "cell_type": "code",
   "execution_count": null,
   "metadata": {},
   "outputs": [
    {
     "data": {
      "text/html": [
       "<div>\n",
       "<style scoped>\n",
       "    .dataframe tbody tr th:only-of-type {\n",
       "        vertical-align: middle;\n",
       "    }\n",
       "\n",
       "    .dataframe tbody tr th {\n",
       "        vertical-align: top;\n",
       "    }\n",
       "\n",
       "    .dataframe thead th {\n",
       "        text-align: right;\n",
       "    }\n",
       "</style>\n",
       "<table border=\"1\" class=\"dataframe\">\n",
       "  <thead>\n",
       "    <tr style=\"text-align: right;\">\n",
       "      <th></th>\n",
       "      <th>Id</th>\n",
       "      <th>eventID</th>\n",
       "      <th>label</th>\n",
       "    </tr>\n",
       "  </thead>\n",
       "  <tbody>\n",
       "    <tr>\n",
       "      <th>133464</th>\n",
       "      <td>133465</td>\n",
       "      <td>9401</td>\n",
       "      <td>0</td>\n",
       "    </tr>\n",
       "  </tbody>\n",
       "</table>\n",
       "</div>"
      ],
      "text/plain": [
       "            Id  eventID  label\n",
       "133464  133465     9401      0"
      ]
     },
     "execution_count": 4,
     "metadata": {},
     "output_type": "execute_result"
    }
   ],
   "source": [
    "# Sample data (replace with your actual data)\n",
    "data_file = 'ipd_dataset.csv'\n",
    "# Read the data into a DataFrame\n",
    "df = pd.read_csv(data_file)\n",
    "# Select only the required columns\n",
    "df_filtered = df[[\"Id\", \"eventID\", \"label\"]]"
   ]
  },
  {
   "cell_type": "code",
   "execution_count": 5,
   "metadata": {},
   "outputs": [
    {
     "name": "stdout",
     "output_type": "stream",
     "text": [
      "[5635, 5637, 6668, 8726, 8738, 15923, 7219, 28725, 7222, 15417, 21561, 6717, 21569, 5705, 6732, 5721, 7258, 7772, 7262, 7775, 8800, 9828, 41062, 6761, 44137, 6767, 5745, 115, 119, 5254, 7823, 6808, 45209, 6815, 42147, 5288, 12973, 9401, 31420, 7357, 31421, 15039, 21695, 7365, 45781, 6884, 6897, 9470, 8960, 5889, 5891, 9475, 7434, 8970, 21797, 8998, 9005, 4924, 24380, 11587, 11591, 12618, 6476, 14157, 14159, 12624, 40784, 45393, 6998, 7006, 7007, 15208, 21865, 21866, 5483, 21867, 26988, 5486, 26992, 7036, 15230, 21886, 7044, 407, 47000, 47002, 9627, 53665, 53666, 5031, 12206, 12214, 6587, 6590, 36799, 34756, 34759, 5580, 36812, 40913, 21458, 7125, 7126, 8661, 26071, 5595, 5596, 12763, 26077, 5087, 5610, 6847]\n"
     ]
    }
   ],
   "source": [
    "# Get a list of all unique eventID values\n",
    "unique_event_ids = df[\"eventID\"].unique().tolist()\n",
    "\n",
    "# Print the list\n",
    "print(unique_event_ids)\n",
    "\n",
    "ids=[[5635, 5637, 6668, 8726, 8738, 15923, 7219, 28725, 7222, 15417, 21561, 6717, \n",
    "      21569, 5705, 6732, 5721, 7258, 7772, 7262, 7775, 8800, 9828, 41062, 6761, 44137, 6767, 5745, 115, 119, 5254, 7823, 6808, 45209, 6815, 42147, \n",
    "      5288, 12973, 9401, 31420, 7357, 31421, 15039, 21695, 7365, 45781, 6884, 6897, 9470, 8960, 5889, 5891, 9475, 7434, 8970, 21797, 8998, 9005, 4924, 24380, 11587, 11591, 12618, 6476, 14157, 14159, 12624, 40784, 45393, 6998, 7006, 7007, 15208, 21865, 21866, 5483, 21867, 26988, 5486, 26992, 7036, 15230, 21886, 7044, 407, 47000, 47002, 9627, 53665, 53666, 5031, 12206, 12214, 6587, 6590, 36799, 34756, 34759, 5580, 36812, 40913, 21458, 7125, 7126, 8661, 26071, 5595, 5596, 12763, 26077, 5087, 5610, 6847]]\n"
   ]
  }
 ],
 "metadata": {
  "kernelspec": {
   "display_name": ".venv",
   "language": "python",
   "name": "python3"
  },
  "language_info": {
   "codemirror_mode": {
    "name": "ipython",
    "version": 3
   },
   "file_extension": ".py",
   "mimetype": "text/x-python",
   "name": "python",
   "nbconvert_exporter": "python",
   "pygments_lexer": "ipython3",
   "version": "3.8.0"
  }
 },
 "nbformat": 4,
 "nbformat_minor": 2
}
